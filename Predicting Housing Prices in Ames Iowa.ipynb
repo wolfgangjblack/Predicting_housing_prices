{
 "cells": [
  {
   "cell_type": "markdown",
   "metadata": {},
   "source": [
    "# Predict Housing Prices using Kaggle Dataset\n",
    "\n",
    "## Competition Description\n",
    "\n",
    "\n",
    "Ask a home buyer to describe their dream house, and they probably won't begin with the height of the basement ceiling or the proximity to an east-west railroad. But this playground competition's dataset proves that much more influences price negotiations than the number of bedrooms or a white-picket fence.\n",
    "\n",
    "With 79 explanatory variables describing (almost) every aspect of residential homes in Ames, Iowa, this competition challenges you to predict the final price of each home.\n",
    "\n",
    "## Practice Skills\n",
    "Creative feature engineering \n",
    "Advanced regression techniques like random forest and gradient boosting\n",
    "\n",
    "## Acknowledgments\n",
    "The Ames Housing dataset was compiled by Dean De Cock for use in data science education. It's an incredible alternative for data scientists looking for a modernized and expanded version of the often cited Boston Housing dataset. \n",
    "\n",
    "## Contents\n",
    "1. import basic packages\n",
    "2. make sure data is in local dir and upload it\n",
    "3. explore data, explore features. Note which need to be manipulated\n",
    "4. test machine models"
   ]
  },
  {
   "cell_type": "code",
   "execution_count": 44,
   "metadata": {},
   "outputs": [],
   "source": [
    "import os\n",
    "import numpy as np\n",
    "import pandas as pd\n",
    "import seaborn as sns\n",
    "import matplotlib.pyplot as plt\n"
   ]
  },
  {
   "cell_type": "markdown",
   "metadata": {},
   "source": [
    "## Data Exploration and Wrangling"
   ]
  },
  {
   "cell_type": "code",
   "execution_count": 45,
   "metadata": {},
   "outputs": [
    {
     "name": "stdout",
     "output_type": "stream",
     "text": [
      "D:\\GitHub\\Kaggle_problems\\Predicting_housing_prices\n",
      "D:\\GitHub\\Kaggle_problems\\Predicting_housing_prices\n"
     ]
    }
   ],
   "source": [
    "print(os.getcwd())\n",
    "DIR = 'D:\\GitHub\\Kaggle_problems\\Predicting_housing_prices'\n",
    "os.chdir(DIR)\n",
    "print(os.getcwd())\n",
    "\n",
    "df = pd.read_csv('train.csv')\n",
    "df.head()\n",
    "test = pd.read_csv('test.csv')"
   ]
  },
  {
   "cell_type": "code",
   "execution_count": 46,
   "metadata": {},
   "outputs": [
    {
     "data": {
      "text/html": [
       "<div>\n",
       "<style scoped>\n",
       "    .dataframe tbody tr th:only-of-type {\n",
       "        vertical-align: middle;\n",
       "    }\n",
       "\n",
       "    .dataframe tbody tr th {\n",
       "        vertical-align: top;\n",
       "    }\n",
       "\n",
       "    .dataframe thead th {\n",
       "        text-align: right;\n",
       "    }\n",
       "</style>\n",
       "<table border=\"1\" class=\"dataframe\">\n",
       "  <thead>\n",
       "    <tr style=\"text-align: right;\">\n",
       "      <th></th>\n",
       "      <th>Id</th>\n",
       "      <th>MSSubClass</th>\n",
       "      <th>LotFrontage</th>\n",
       "      <th>LotArea</th>\n",
       "      <th>OverallQual</th>\n",
       "      <th>OverallCond</th>\n",
       "      <th>YearBuilt</th>\n",
       "      <th>YearRemodAdd</th>\n",
       "      <th>MasVnrArea</th>\n",
       "      <th>BsmtFinSF1</th>\n",
       "      <th>...</th>\n",
       "      <th>WoodDeckSF</th>\n",
       "      <th>OpenPorchSF</th>\n",
       "      <th>EnclosedPorch</th>\n",
       "      <th>3SsnPorch</th>\n",
       "      <th>ScreenPorch</th>\n",
       "      <th>PoolArea</th>\n",
       "      <th>MiscVal</th>\n",
       "      <th>MoSold</th>\n",
       "      <th>YrSold</th>\n",
       "      <th>SalePrice</th>\n",
       "    </tr>\n",
       "  </thead>\n",
       "  <tbody>\n",
       "    <tr>\n",
       "      <th>count</th>\n",
       "      <td>1460.000000</td>\n",
       "      <td>1460.000000</td>\n",
       "      <td>1201.000000</td>\n",
       "      <td>1460.000000</td>\n",
       "      <td>1460.000000</td>\n",
       "      <td>1460.000000</td>\n",
       "      <td>1460.000000</td>\n",
       "      <td>1460.000000</td>\n",
       "      <td>1452.000000</td>\n",
       "      <td>1460.000000</td>\n",
       "      <td>...</td>\n",
       "      <td>1460.000000</td>\n",
       "      <td>1460.000000</td>\n",
       "      <td>1460.000000</td>\n",
       "      <td>1460.000000</td>\n",
       "      <td>1460.000000</td>\n",
       "      <td>1460.000000</td>\n",
       "      <td>1460.000000</td>\n",
       "      <td>1460.000000</td>\n",
       "      <td>1460.000000</td>\n",
       "      <td>1460.000000</td>\n",
       "    </tr>\n",
       "    <tr>\n",
       "      <th>mean</th>\n",
       "      <td>730.500000</td>\n",
       "      <td>56.897260</td>\n",
       "      <td>70.049958</td>\n",
       "      <td>10516.828082</td>\n",
       "      <td>6.099315</td>\n",
       "      <td>5.575342</td>\n",
       "      <td>1971.267808</td>\n",
       "      <td>1984.865753</td>\n",
       "      <td>103.685262</td>\n",
       "      <td>443.639726</td>\n",
       "      <td>...</td>\n",
       "      <td>94.244521</td>\n",
       "      <td>46.660274</td>\n",
       "      <td>21.954110</td>\n",
       "      <td>3.409589</td>\n",
       "      <td>15.060959</td>\n",
       "      <td>2.758904</td>\n",
       "      <td>43.489041</td>\n",
       "      <td>6.321918</td>\n",
       "      <td>2007.815753</td>\n",
       "      <td>180921.195890</td>\n",
       "    </tr>\n",
       "    <tr>\n",
       "      <th>std</th>\n",
       "      <td>421.610009</td>\n",
       "      <td>42.300571</td>\n",
       "      <td>24.284752</td>\n",
       "      <td>9981.264932</td>\n",
       "      <td>1.382997</td>\n",
       "      <td>1.112799</td>\n",
       "      <td>30.202904</td>\n",
       "      <td>20.645407</td>\n",
       "      <td>181.066207</td>\n",
       "      <td>456.098091</td>\n",
       "      <td>...</td>\n",
       "      <td>125.338794</td>\n",
       "      <td>66.256028</td>\n",
       "      <td>61.119149</td>\n",
       "      <td>29.317331</td>\n",
       "      <td>55.757415</td>\n",
       "      <td>40.177307</td>\n",
       "      <td>496.123024</td>\n",
       "      <td>2.703626</td>\n",
       "      <td>1.328095</td>\n",
       "      <td>79442.502883</td>\n",
       "    </tr>\n",
       "    <tr>\n",
       "      <th>min</th>\n",
       "      <td>1.000000</td>\n",
       "      <td>20.000000</td>\n",
       "      <td>21.000000</td>\n",
       "      <td>1300.000000</td>\n",
       "      <td>1.000000</td>\n",
       "      <td>1.000000</td>\n",
       "      <td>1872.000000</td>\n",
       "      <td>1950.000000</td>\n",
       "      <td>0.000000</td>\n",
       "      <td>0.000000</td>\n",
       "      <td>...</td>\n",
       "      <td>0.000000</td>\n",
       "      <td>0.000000</td>\n",
       "      <td>0.000000</td>\n",
       "      <td>0.000000</td>\n",
       "      <td>0.000000</td>\n",
       "      <td>0.000000</td>\n",
       "      <td>0.000000</td>\n",
       "      <td>1.000000</td>\n",
       "      <td>2006.000000</td>\n",
       "      <td>34900.000000</td>\n",
       "    </tr>\n",
       "    <tr>\n",
       "      <th>25%</th>\n",
       "      <td>365.750000</td>\n",
       "      <td>20.000000</td>\n",
       "      <td>59.000000</td>\n",
       "      <td>7553.500000</td>\n",
       "      <td>5.000000</td>\n",
       "      <td>5.000000</td>\n",
       "      <td>1954.000000</td>\n",
       "      <td>1967.000000</td>\n",
       "      <td>0.000000</td>\n",
       "      <td>0.000000</td>\n",
       "      <td>...</td>\n",
       "      <td>0.000000</td>\n",
       "      <td>0.000000</td>\n",
       "      <td>0.000000</td>\n",
       "      <td>0.000000</td>\n",
       "      <td>0.000000</td>\n",
       "      <td>0.000000</td>\n",
       "      <td>0.000000</td>\n",
       "      <td>5.000000</td>\n",
       "      <td>2007.000000</td>\n",
       "      <td>129975.000000</td>\n",
       "    </tr>\n",
       "    <tr>\n",
       "      <th>50%</th>\n",
       "      <td>730.500000</td>\n",
       "      <td>50.000000</td>\n",
       "      <td>69.000000</td>\n",
       "      <td>9478.500000</td>\n",
       "      <td>6.000000</td>\n",
       "      <td>5.000000</td>\n",
       "      <td>1973.000000</td>\n",
       "      <td>1994.000000</td>\n",
       "      <td>0.000000</td>\n",
       "      <td>383.500000</td>\n",
       "      <td>...</td>\n",
       "      <td>0.000000</td>\n",
       "      <td>25.000000</td>\n",
       "      <td>0.000000</td>\n",
       "      <td>0.000000</td>\n",
       "      <td>0.000000</td>\n",
       "      <td>0.000000</td>\n",
       "      <td>0.000000</td>\n",
       "      <td>6.000000</td>\n",
       "      <td>2008.000000</td>\n",
       "      <td>163000.000000</td>\n",
       "    </tr>\n",
       "    <tr>\n",
       "      <th>75%</th>\n",
       "      <td>1095.250000</td>\n",
       "      <td>70.000000</td>\n",
       "      <td>80.000000</td>\n",
       "      <td>11601.500000</td>\n",
       "      <td>7.000000</td>\n",
       "      <td>6.000000</td>\n",
       "      <td>2000.000000</td>\n",
       "      <td>2004.000000</td>\n",
       "      <td>166.000000</td>\n",
       "      <td>712.250000</td>\n",
       "      <td>...</td>\n",
       "      <td>168.000000</td>\n",
       "      <td>68.000000</td>\n",
       "      <td>0.000000</td>\n",
       "      <td>0.000000</td>\n",
       "      <td>0.000000</td>\n",
       "      <td>0.000000</td>\n",
       "      <td>0.000000</td>\n",
       "      <td>8.000000</td>\n",
       "      <td>2009.000000</td>\n",
       "      <td>214000.000000</td>\n",
       "    </tr>\n",
       "    <tr>\n",
       "      <th>max</th>\n",
       "      <td>1460.000000</td>\n",
       "      <td>190.000000</td>\n",
       "      <td>313.000000</td>\n",
       "      <td>215245.000000</td>\n",
       "      <td>10.000000</td>\n",
       "      <td>9.000000</td>\n",
       "      <td>2010.000000</td>\n",
       "      <td>2010.000000</td>\n",
       "      <td>1600.000000</td>\n",
       "      <td>5644.000000</td>\n",
       "      <td>...</td>\n",
       "      <td>857.000000</td>\n",
       "      <td>547.000000</td>\n",
       "      <td>552.000000</td>\n",
       "      <td>508.000000</td>\n",
       "      <td>480.000000</td>\n",
       "      <td>738.000000</td>\n",
       "      <td>15500.000000</td>\n",
       "      <td>12.000000</td>\n",
       "      <td>2010.000000</td>\n",
       "      <td>755000.000000</td>\n",
       "    </tr>\n",
       "  </tbody>\n",
       "</table>\n",
       "<p>8 rows × 38 columns</p>\n",
       "</div>"
      ],
      "text/plain": [
       "                Id   MSSubClass  LotFrontage        LotArea  OverallQual  \\\n",
       "count  1460.000000  1460.000000  1201.000000    1460.000000  1460.000000   \n",
       "mean    730.500000    56.897260    70.049958   10516.828082     6.099315   \n",
       "std     421.610009    42.300571    24.284752    9981.264932     1.382997   \n",
       "min       1.000000    20.000000    21.000000    1300.000000     1.000000   \n",
       "25%     365.750000    20.000000    59.000000    7553.500000     5.000000   \n",
       "50%     730.500000    50.000000    69.000000    9478.500000     6.000000   \n",
       "75%    1095.250000    70.000000    80.000000   11601.500000     7.000000   \n",
       "max    1460.000000   190.000000   313.000000  215245.000000    10.000000   \n",
       "\n",
       "       OverallCond    YearBuilt  YearRemodAdd   MasVnrArea   BsmtFinSF1  ...  \\\n",
       "count  1460.000000  1460.000000   1460.000000  1452.000000  1460.000000  ...   \n",
       "mean      5.575342  1971.267808   1984.865753   103.685262   443.639726  ...   \n",
       "std       1.112799    30.202904     20.645407   181.066207   456.098091  ...   \n",
       "min       1.000000  1872.000000   1950.000000     0.000000     0.000000  ...   \n",
       "25%       5.000000  1954.000000   1967.000000     0.000000     0.000000  ...   \n",
       "50%       5.000000  1973.000000   1994.000000     0.000000   383.500000  ...   \n",
       "75%       6.000000  2000.000000   2004.000000   166.000000   712.250000  ...   \n",
       "max       9.000000  2010.000000   2010.000000  1600.000000  5644.000000  ...   \n",
       "\n",
       "        WoodDeckSF  OpenPorchSF  EnclosedPorch    3SsnPorch  ScreenPorch  \\\n",
       "count  1460.000000  1460.000000    1460.000000  1460.000000  1460.000000   \n",
       "mean     94.244521    46.660274      21.954110     3.409589    15.060959   \n",
       "std     125.338794    66.256028      61.119149    29.317331    55.757415   \n",
       "min       0.000000     0.000000       0.000000     0.000000     0.000000   \n",
       "25%       0.000000     0.000000       0.000000     0.000000     0.000000   \n",
       "50%       0.000000    25.000000       0.000000     0.000000     0.000000   \n",
       "75%     168.000000    68.000000       0.000000     0.000000     0.000000   \n",
       "max     857.000000   547.000000     552.000000   508.000000   480.000000   \n",
       "\n",
       "          PoolArea       MiscVal       MoSold       YrSold      SalePrice  \n",
       "count  1460.000000   1460.000000  1460.000000  1460.000000    1460.000000  \n",
       "mean      2.758904     43.489041     6.321918  2007.815753  180921.195890  \n",
       "std      40.177307    496.123024     2.703626     1.328095   79442.502883  \n",
       "min       0.000000      0.000000     1.000000  2006.000000   34900.000000  \n",
       "25%       0.000000      0.000000     5.000000  2007.000000  129975.000000  \n",
       "50%       0.000000      0.000000     6.000000  2008.000000  163000.000000  \n",
       "75%       0.000000      0.000000     8.000000  2009.000000  214000.000000  \n",
       "max     738.000000  15500.000000    12.000000  2010.000000  755000.000000  \n",
       "\n",
       "[8 rows x 38 columns]"
      ]
     },
     "execution_count": 46,
     "metadata": {},
     "output_type": "execute_result"
    }
   ],
   "source": [
    "df.describe()"
   ]
  },
  {
   "cell_type": "markdown",
   "metadata": {},
   "source": [
    "This data is very inclusive, and has 79 features. While we could try to just one-hot encode I'm not sure thats the best way to handle this. I feel like a lot of these features should be target encoded. My fear with this is that we're over fitting to the sale data - so we should do this only on a few features AFTER we've split our training data for validation data. \n",
    "\n",
    "So I want to target encode a few features, and then I want to probably combine some features. Since we've got 79 features, I'll create a feature_map.txt and place this in the directory. There I'll explain which features are being converted to what, and which are being left alone. However, all (en)coding/conversion will be shown here. \n",
    "\n",
    "From the feature/data description some questions were raised. Below I'll list out the questions and then we'll try to answer them with visualizations/data\n",
    "\n",
    "1. neighborhoods vs saleprice, neighborhood vs zoning \n",
    "    combine neighborhood and zoning, then use target encoding on these\n",
    "2. 'Housestyle' vs 'BldgType' vs 'MSSubClass' - these are all linked, do they have the same count/distribution? Can we neglect one of these (If they look the same, we're double counting this info... - can we combine them?)\n",
    "    Combine, then target\n",
    "3. Nans in Condition2 and in Exterior2nd? Also Look at combinations of Condition1,2 Exterior1,2\n",
    "    Combine Conditions and Exteriors, then count encode\n",
    "4. MasVnrArea - can we break this down into categories, does it matter what the MasVnrType is?\n",
    "    Target encode\n",
    "5. Look at OverallQual, OverallCond, ExterQuality, ExterCond - these are the same thing? Can we combine these?\n",
    "    Can't combine these easily, but lets change ExterQuality and ExterCond to numbers\n",
    "6. Count Plot of heating and HeatngQC\n",
    "7. Look at Functional - we know we want typical to be good - everything else bad...\n",
    "8. Fireplaces vs FireplaceQu\n",
    "9. GarageYrBlt vs YearBuilt and Garagetype\n",
    "10. GarageCars/GarageArea/GarageQual\n",
    "11. WoodDeckSf,OpenPorchSf,EnclosedPorch,3SsnPorch vs saleprice (scatter)\n",
    "12. MiscFeature and MiscVal\n",
    "13. MoSold,YrSold\n",
    "14. SaleType,SaleCondition\n"
   ]
  },
  {
   "cell_type": "code",
   "execution_count": 47,
   "metadata": {},
   "outputs": [
    {
     "data": {
      "text/plain": [
       "(array([ 0,  1,  2,  3,  4,  5,  6,  7,  8,  9, 10, 11, 12, 13, 14, 15, 16,\n",
       "        17, 18, 19, 20, 21, 22, 23, 24]),\n",
       " [Text(0, 0, 'CollgCr'),\n",
       "  Text(1, 0, 'Veenker'),\n",
       "  Text(2, 0, 'Crawfor'),\n",
       "  Text(3, 0, 'NoRidge'),\n",
       "  Text(4, 0, 'Mitchel'),\n",
       "  Text(5, 0, 'Somerst'),\n",
       "  Text(6, 0, 'NWAmes'),\n",
       "  Text(7, 0, 'OldTown'),\n",
       "  Text(8, 0, 'BrkSide'),\n",
       "  Text(9, 0, 'Sawyer'),\n",
       "  Text(10, 0, 'NridgHt'),\n",
       "  Text(11, 0, 'NAmes'),\n",
       "  Text(12, 0, 'SawyerW'),\n",
       "  Text(13, 0, 'IDOTRR'),\n",
       "  Text(14, 0, 'MeadowV'),\n",
       "  Text(15, 0, 'Edwards'),\n",
       "  Text(16, 0, 'Timber'),\n",
       "  Text(17, 0, 'Gilbert'),\n",
       "  Text(18, 0, 'StoneBr'),\n",
       "  Text(19, 0, 'ClearCr'),\n",
       "  Text(20, 0, 'NPkVill'),\n",
       "  Text(21, 0, 'Blmngtn'),\n",
       "  Text(22, 0, 'BrDale'),\n",
       "  Text(23, 0, 'SWISU'),\n",
       "  Text(24, 0, 'Blueste')])"
      ]
     },
     "execution_count": 47,
     "metadata": {},
     "output_type": "execute_result"
    },
    {
     "data": {
      "image/png": "[encoded data removed]",
      "text/plain": [
       "<Figure size 720x360 with 1 Axes>"
      ]
     },
     "metadata": {
      "needs_background": "light"
     },
     "output_type": "display_data"
    }
   ],
   "source": [
    "#print(df.groupby(['Neighborhood','MSZoning']).Neighborhood.count())\n",
    "#print(df.groupby(['Neighborhood']).SalePrice.mean())\n",
    "#print(df.groupby(['Neighborhood','MSZoning']).SalePrice.mean())\n",
    "plt.figure(0,figsize=(10,5))\n",
    "sns.barplot(x = 'Neighborhood', y = 'SalePrice', data = df)\n",
    "plt.xticks(rotation = 45)"
   ]
  },
  {
   "cell_type": "code",
   "execution_count": 48,
   "metadata": {},
   "outputs": [
    {
     "data": {
      "text/plain": [
       "<AxesSubplot:xlabel='MasVnrType', ylabel='SalePrice'>"
      ]
     },
     "execution_count": 48,
     "metadata": {},
     "output_type": "execute_result"
    },
    {
     "data": {
      "image/png": "[encoded data removed]",
      "text/plain": [
       "<Figure size 432x288 with 1 Axes>"
      ]
     },
     "metadata": {
      "needs_background": "light"
     },
     "output_type": "display_data"
    }
   ],
   "source": [
    "plt.figure(1)\n",
    "sns.barplot(x='MasVnrType',y = 'SalePrice', data = df)"
   ]
  },
  {
   "cell_type": "code",
   "execution_count": 49,
   "metadata": {},
   "outputs": [
    {
     "data": {
      "text/plain": [
       "<AxesSubplot:xlabel='ExterCond', ylabel='SalePrice'>"
      ]
     },
     "execution_count": 49,
     "metadata": {},
     "output_type": "execute_result"
    },
    {
     "data": {
      "image/png": "[encoded data removed]",
      "text/plain": [
       "<Figure size 1008x720 with 4 Axes>"
      ]
     },
     "metadata": {
      "needs_background": "light"
     },
     "output_type": "display_data"
    }
   ],
   "source": [
    "plt.figure(2,figsize=(14,10))\n",
    "\n",
    "plt.subplot(2,2,1)\n",
    "sns.barplot(x='OverallQual',y='SalePrice', data = df)\n",
    "plt.subplot(2,2,2)\n",
    "sns.barplot(x='OverallCond',y='SalePrice', data = df)\n",
    "plt.subplot(2,2,3)\n",
    "sns.barplot(x='ExterQual',y='SalePrice', data = df)\n",
    "plt.subplot(2,2,4)\n",
    "sns.barplot(x='ExterCond',y='SalePrice', data = df)\n"
   ]
  },
  {
   "cell_type": "code",
   "execution_count": 50,
   "metadata": {},
   "outputs": [
    {
     "data": {
      "text/plain": [
       "<AxesSubplot:xlabel='ExterQual', ylabel='SalePrice'>"
      ]
     },
     "execution_count": 50,
     "metadata": {},
     "output_type": "execute_result"
    },
    {
     "data": {
      "image/png": "[encoded data removed]",
      "text/plain": [
       "<Figure size 1008x720 with 1 Axes>"
      ]
     },
     "metadata": {
      "needs_background": "light"
     },
     "output_type": "display_data"
    }
   ],
   "source": [
    "plt.figure(3,figsize=(14,10))\n",
    "\n",
    "sns.barplot(x='ExterQual',y='SalePrice', hue ='ExterCond', data = df)\n"
   ]
  },
  {
   "cell_type": "code",
   "execution_count": 51,
   "metadata": {},
   "outputs": [
    {
     "data": {
      "text/plain": [
       "<matplotlib.legend.Legend at 0x1ae18fc8ac0>"
      ]
     },
     "execution_count": 51,
     "metadata": {},
     "output_type": "execute_result"
    },
    {
     "data": {
      "image/png": "[encoded data removed]",
      "text/plain": [
       "<Figure size 432x288 with 1 Axes>"
      ]
     },
     "metadata": {
      "needs_background": "light"
     },
     "output_type": "display_data"
    }
   ],
   "source": [
    "plt.figure(4)\n",
    "sns.countplot(x = 'Heating',hue='HeatingQC',data = df)\n",
    "plt.legend(loc = 1)"
   ]
  },
  {
   "cell_type": "code",
   "execution_count": 52,
   "metadata": {},
   "outputs": [
    {
     "data": {
      "text/plain": [
       "(10.0, 800.0)"
      ]
     },
     "execution_count": 52,
     "metadata": {},
     "output_type": "execute_result"
    },
    {
     "data": {
      "image/png": "[encoded data removed]",
      "text/plain": [
       "<Figure size 432x288 with 1 Axes>"
      ]
     },
     "metadata": {
      "needs_background": "light"
     },
     "output_type": "display_data"
    }
   ],
   "source": [
    "plt.figure(5)\n",
    "plt.scatter(df.WoodDeckSF,df.SalePrice,c='b',alpha=0.2)\n",
    "plt.scatter(df.OpenPorchSF,df.SalePrice,c='r',alpha=0.2)\n",
    "plt.scatter(df.EnclosedPorch,df.SalePrice,c='g',alpha=0.2)\n",
    "plt.scatter(df['3SsnPorch'],df.SalePrice,c='purple',alpha=0.2)\n",
    "plt.xlim([10,800])\n",
    "#,EnclosedPorch,3SsnPorch vs saleprice (scatter)"
   ]
  },
  {
   "cell_type": "markdown",
   "metadata": {},
   "source": [
    "I've explored the data and I've decided this time around I'll keep the vast majority of these features and will follow the transformations discussed in feature_maps.txt. After data wrangling and model building, I'll do two more excercises 1 with features I've created by trying to combine some features here, and one by reducing the features of whichever the first two models functions better. "
   ]
  },
  {
   "cell_type": "markdown",
   "metadata": {},
   "source": [
    "## Data Wrangling/Feature Selection"
   ]
  },
  {
   "cell_type": "markdown",
   "metadata": {},
   "source": [
    "First we need to double check all our catagorical datas (object) and then encode them. "
   ]
  },
  {
   "cell_type": "code",
   "execution_count": 53,
   "metadata": {},
   "outputs": [
    {
     "data": {
      "text/plain": [
       "6965"
      ]
     },
     "execution_count": 53,
     "metadata": {},
     "output_type": "execute_result"
    }
   ],
   "source": [
    "df.isna().sum().sum()"
   ]
  },
  {
   "cell_type": "markdown",
   "metadata": {},
   "source": [
    "Loooking at the non-null values... I'm going to exclude everything with less than 700 non-null values. This is approximately 50% and choosen at random"
   ]
  },
  {
   "cell_type": "code",
   "execution_count": 54,
   "metadata": {},
   "outputs": [
    {
     "name": "stdout",
     "output_type": "stream",
     "text": [
      "Index(['MSZoning', 'Street', 'LotShape', 'LandContour', 'Utilities',\n",
      "       'LotConfig', 'LandSlope', 'Neighborhood', 'Condition1', 'Condition2',\n",
      "       'BldgType', 'HouseStyle', 'RoofStyle', 'RoofMatl', 'Exterior1st',\n",
      "       'Exterior2nd', 'MasVnrType', 'ExterQual', 'ExterCond', 'Foundation',\n",
      "       'BsmtQual', 'BsmtCond', 'BsmtExposure', 'BsmtFinType1', 'BsmtFinType2',\n",
      "       'Heating', 'HeatingQC', 'CentralAir', 'Electrical', 'KitchenQual',\n",
      "       'Functional', 'GarageType', 'GarageFinish', 'GarageQual', 'GarageCond',\n",
      "       'PavedDrive', 'SaleType', 'SaleCondition'],\n",
      "      dtype='object')\n"
     ]
    }
   ],
   "source": [
    "y = df['SalePrice']\n",
    "df.drop(['Id','Alley', 'FireplaceQu','PoolQC','Fence','MiscFeature','SalePrice'],axis = 1, inplace = True)\n",
    "test.drop(['Id','Alley', 'FireplaceQu','PoolQC','Fence','MiscFeature'],axis = 1, inplace = True)\n",
    "\n",
    "cat_columns = df.select_dtypes(include = [object]).columns\n",
    "print(cat_columns)\n",
    "for column in df.columns:\n",
    "    if column in cat_columns:\n",
    "        df[column].fillna('Undefined',inplace = True)\n",
    "        test[column].fillna('Undefined', inplace = True)\n",
    "    else:\n",
    "        df_mean = df[column].mean()\n",
    "        df[column].fillna(df_mean,inplace = True)\n",
    "        test[column].fillna(df_mean,inplace = True)\n"
   ]
  },
  {
   "cell_type": "code",
   "execution_count": 55,
   "metadata": {},
   "outputs": [],
   "source": [
    "train = df.copy() \n",
    "from sklearn.preprocessing import OneHotEncoder\n",
    "\n",
    "encoder = OneHotEncoder(handle_unknown='ignore', sparse=False)\n",
    "encoder.fit(train[cat_columns]);\n",
    "one_hot_columns = encoder.get_feature_names(list(cat_columns))\n",
    "train_one_hot = pd.DataFrame(encoder.transform(train[cat_columns]), columns=one_hot_columns)\n",
    "test_one_hot = pd.DataFrame(encoder.transform(test[cat_columns]), columns=one_hot_columns)\n",
    "\n",
    "train.drop(columns=cat_columns, axis=1, inplace=True)\n",
    "test.drop(columns=cat_columns, axis=1, inplace=True)\n",
    "\n",
    "train[train_one_hot.columns] = train_one_hot\n",
    "test[train_one_hot.columns] = test_one_hot\n"
   ]
  },
  {
   "cell_type": "code",
   "execution_count": 56,
   "metadata": {},
   "outputs": [],
   "source": [
    "from sklearn.preprocessing import StandardScaler, MinMaxScaler\n",
    "scaler = StandardScaler()\n",
    "scaler.fit(train)\n",
    "train = pd.DataFrame(scaler.transform(train), columns=train.columns)\n",
    "test = pd.DataFrame(scaler.transform(test), columns=test.columns)"
   ]
  },
  {
   "cell_type": "code",
   "execution_count": 57,
   "metadata": {},
   "outputs": [],
   "source": [
    "from sklearn.ensemble import RandomForestClassifier\n",
    "from sklearn.metrics import mean_squared_error\n",
    "from sklearn.model_selection import train_test_split\n",
    "from sklearn.metrics import accuracy_score\n",
    "from sklearn.impute import SimpleImputer\n",
    "from sklearn.preprocessing import OneHotEncoder\n"
   ]
  },
  {
   "cell_type": "code",
   "execution_count": 15,
   "metadata": {},
   "outputs": [
    {
     "name": "stdout",
     "output_type": "stream",
     "text": [
      "The mae for the random forest model with all features is  1922238663.939726\n",
      "1316601.8246162508\n"
     ]
    }
   ],
   "source": [
    "x_train,x_valid,y_train,y_valid = train_test_split(train,y, random_state = 100)\n",
    "model_1 = RandomForestClassifier(n_estimators = 100,max_depth = 20, random_state = 100)\n",
    "model_1.fit(x_train,y_train)\n",
    "pred_1_y = model_1.predict(x_valid)\n",
    "mae_1 = mean_squared_error(y_valid,pred_1_y)\n",
    "\n",
    "print('The mae for the random forest model with all features is ',mae_1)\n",
    "print(mae_1/1460)"
   ]
  },
  {
   "cell_type": "code",
   "execution_count": 132,
   "metadata": {},
   "outputs": [
    {
     "name": "stdout",
     "output_type": "stream",
     "text": [
      "Best Tree 10 Best leaf 5 best mae 4905451787.169863\n",
      "Best Tree 10 Best leaf 10 best mae 4179674141.578082\n",
      "Best Tree 10 Best leaf 15 best mae 3220176142.421918\n",
      "Best Tree 10 Best leaf 20 best mae 2880762483.052055\n",
      "Best Tree 20 Best leaf 15 best mae 2699933101.1643834\n",
      "Best Tree 20 Best leaf 20 best mae 1980902873.6438355\n",
      "Best Tree 40 Best leaf 25 best mae 1799784285.117808\n",
      "Best Tree 60 Best leaf 20 best mae 1791900670.369863\n",
      "Best Tree 60 Best leaf 30 best mae 1785301930.7150686\n",
      "Best Tree 60 Best leaf 50 best mae 1744115864.2931507\n",
      "Best Tree 70 Best leaf 30 best mae 1578868643.210959\n",
      "Best Tree 100 Best leaf 25 best mae 1577310716.1917808\n",
      "Best Tree 180 Best leaf 35 best mae 1572956766.2849314\n",
      "Best Tree 190 Best leaf 25 best mae 1563556867.879452\n",
      "Best Tree 200 Best leaf 35 best mae 1492378147.038356\n",
      "Best Tree 210 Best leaf 35 best mae 1488554337.5369864\n",
      "Best Tree 240 Best leaf 35 best mae 1410263404.0438356\n",
      "Best Tree 250 Best leaf 35 best mae 1379178251.989041\n",
      "Best Tree 360 Best leaf 35 best mae 1362682535.3917809\n",
      "Best Tree 370 Best leaf 35 best mae 1333501675.6767123\n",
      "Best Tree 500 Best leaf 35 best mae 1306796378.580822\n"
     ]
    }
   ],
   "source": [
    "trees = [(1+i)*10 for i in range(51)]\n",
    "leafs = [(1+i)*5 for i in range(25)]\n",
    "\n",
    "best_mae = 999999999999\n",
    "for tree in trees:\n",
    "    for leaf in leafs:\n",
    "        print(leaf,tree)\n",
    "        rf_cv_model = RandomForestClassifier(n_estimators = tree, max_depth = leaf, random_state = 100)\n",
    "        model2.fit(x_train,y_train)\n",
    "        pred2 = model2.predict(x_valid)\n",
    "        mae2 = mean_squared_error(y_valid,pred2)\n",
    "        if mae2 < best_mae:\n",
    "            best_mae = mae2\n",
    "            best_tree = tree\n",
    "            best_leaf = leaf\n",
    "            print('Best Tree', tree, 'Best leaf', leaf, 'best mae', best_mae)\n",
    "print('done')"
   ]
  },
  {
   "cell_type": "code",
   "execution_count": 17,
   "metadata": {},
   "outputs": [
    {
     "name": "stdout",
     "output_type": "stream",
     "text": [
      "746333952.4590608 511187.6386705896\n"
     ]
    }
   ],
   "source": [
    "\n",
    "model2 = RandomForestClassifier(n_estimators = best_tree, max_depth = best_leaf, random_state = 100)\n",
    "model2.fit(train,y)\n",
    "pred2 = model2.predict(test)\n",
    "\n",
    "from sklearn.ensemble import GradientBoostingRegressor\n",
    "\n",
    "\n",
    "model = GradientBoostingRegressor(random_state=1, n_estimators=200, min_samples_split=3)\n",
    "model.fit(x_train, y_train)\n",
    "mae_2 = mean_squared_error(y_valid,model.predict(x_valid))\n",
    "print(mae_2, mae_2/1460)\n",
    "\n",
    "model = GradientBoostingRegressor(random_state=1, n_estimators=200, min_samples_split=3)\n",
    "model.fit(train, y)\n",
    "pred = model.predict(test)\n",
    "\n"
   ]
  },
  {
   "cell_type": "code",
   "execution_count": 138,
   "metadata": {},
   "outputs": [],
   "source": [
    "predictions = np.zeros([len(test),2])\n",
    "predictions[:,0] = model2.predict(test)\n",
    "predictions[:,1] = model.predict(test)"
   ]
  },
  {
   "cell_type": "code",
   "execution_count": 24,
   "metadata": {},
   "outputs": [
    {
     "name": "stdout",
     "output_type": "stream",
     "text": [
      "n is  10  and min split is  3\n",
      "Best n currently is  10  best split is  3 for a mae of  2339000883.0274744\n",
      "n is  10  and min split is  5\n",
      "Best n currently is  10  best split is  5 for a mae of  2337577208.0773325\n",
      "n is  10  and min split is  7\n",
      "n is  20  and min split is  3\n",
      "Best n currently is  20  best split is  3 for a mae of  1361289217.2228274\n",
      "n is  20  and min split is  5\n",
      "Best n currently is  20  best split is  5 for a mae of  1334134223.5872598\n",
      "n is  20  and min split is  7\n",
      "n is  30  and min split is  3\n",
      "Best n currently is  30  best split is  3 for a mae of  1050247361.0858662\n",
      "n is  30  and min split is  5\n",
      "Best n currently is  30  best split is  5 for a mae of  1032913184.1001331\n",
      "n is  30  and min split is  7\n",
      "n is  40  and min split is  3\n",
      "Best n currently is  40  best split is  3 for a mae of  910373196.1788886\n",
      "n is  40  and min split is  5\n",
      "n is  40  and min split is  7\n",
      "n is  50  and min split is  3\n",
      "Best n currently is  50  best split is  3 for a mae of  860357851.0544748\n",
      "n is  50  and min split is  5\n",
      "Best n currently is  50  best split is  5 for a mae of  853464303.1313726\n",
      "n is  50  and min split is  7\n",
      "n is  60  and min split is  3\n",
      "Best n currently is  60  best split is  3 for a mae of  831002148.5417143\n",
      "n is  60  and min split is  5\n",
      "Best n currently is  60  best split is  5 for a mae of  818600758.3716178\n",
      "n is  60  and min split is  7\n",
      "Best n currently is  60  best split is  7 for a mae of  817667123.466057\n",
      "n is  70  and min split is  3\n",
      "Best n currently is  70  best split is  3 for a mae of  811062983.7595928\n",
      "n is  70  and min split is  5\n",
      "Best n currently is  70  best split is  5 for a mae of  796753009.0182731\n",
      "n is  70  and min split is  7\n",
      "n is  80  and min split is  3\n",
      "Best n currently is  80  best split is  3 for a mae of  788126291.7100478\n",
      "n is  80  and min split is  5\n",
      "n is  80  and min split is  7\n",
      "Best n currently is  80  best split is  7 for a mae of  785055498.1348687\n",
      "n is  90  and min split is  3\n",
      "Best n currently is  90  best split is  3 for a mae of  779441834.7437503\n",
      "n is  90  and min split is  5\n",
      "n is  90  and min split is  7\n",
      "Best n currently is  90  best split is  7 for a mae of  772657162.5370655\n",
      "n is  100  and min split is  3\n",
      "n is  100  and min split is  5\n",
      "Best n currently is  100  best split is  5 for a mae of  768575982.7419761\n",
      "n is  100  and min split is  7\n",
      "Best n currently is  100  best split is  7 for a mae of  762934061.6867577\n",
      "n is  110  and min split is  3\n",
      "n is  110  and min split is  5\n",
      "Best n currently is  110  best split is  5 for a mae of  758992968.0250435\n",
      "n is  110  and min split is  7\n",
      "Best n currently is  110  best split is  7 for a mae of  755697317.6927083\n",
      "n is  120  and min split is  3\n",
      "n is  120  and min split is  5\n",
      "Best n currently is  120  best split is  5 for a mae of  752874414.3229526\n",
      "n is  120  and min split is  7\n",
      "Best n currently is  120  best split is  7 for a mae of  746320839.4541892\n",
      "n is  130  and min split is  3\n",
      "n is  130  and min split is  5\n",
      "Best n currently is  130  best split is  5 for a mae of  746004893.1305671\n",
      "n is  130  and min split is  7\n",
      "Best n currently is  130  best split is  7 for a mae of  745886442.9610678\n",
      "n is  140  and min split is  3\n",
      "n is  140  and min split is  5\n",
      "Best n currently is  140  best split is  5 for a mae of  741953577.9491359\n",
      "n is  140  and min split is  7\n",
      "Best n currently is  140  best split is  7 for a mae of  740553183.2364334\n",
      "n is  150  and min split is  3\n",
      "n is  150  and min split is  5\n",
      "n is  150  and min split is  7\n",
      "Best n currently is  150  best split is  7 for a mae of  732955171.6733292\n",
      "n is  160  and min split is  3\n",
      "n is  160  and min split is  5\n",
      "n is  160  and min split is  7\n",
      "n is  170  and min split is  3\n",
      "n is  170  and min split is  5\n",
      "n is  170  and min split is  7\n",
      "n is  180  and min split is  3\n",
      "n is  180  and min split is  5\n",
      "n is  180  and min split is  7\n",
      "n is  190  and min split is  3\n",
      "n is  190  and min split is  5\n",
      "n is  190  and min split is  7\n",
      "n is  200  and min split is  3\n",
      "n is  200  and min split is  5\n",
      "n is  200  and min split is  7\n",
      "n is  210  and min split is  3\n",
      "n is  210  and min split is  5\n",
      "Best n currently is  210  best split is  5 for a mae of  731443242.7041829\n",
      "n is  210  and min split is  7\n",
      "n is  220  and min split is  3\n",
      "n is  220  and min split is  5\n",
      "Best n currently is  220  best split is  5 for a mae of  730121376.7491398\n",
      "n is  220  and min split is  7\n",
      "n is  230  and min split is  3\n",
      "n is  230  and min split is  5\n",
      "Best n currently is  230  best split is  5 for a mae of  727477922.2715425\n",
      "n is  230  and min split is  7\n",
      "n is  240  and min split is  3\n",
      "n is  240  and min split is  5\n",
      "n is  240  and min split is  7\n",
      "n is  250  and min split is  3\n",
      "n is  250  and min split is  5\n",
      "Best n currently is  250  best split is  5 for a mae of  726597020.2389741\n",
      "n is  250  and min split is  7\n",
      "n is  260  and min split is  3\n",
      "n is  260  and min split is  5\n",
      "n is  260  and min split is  7\n",
      "n is  270  and min split is  3\n",
      "n is  270  and min split is  5\n",
      "Best n currently is  270  best split is  5 for a mae of  725946786.363299\n",
      "n is  270  and min split is  7\n",
      "n is  280  and min split is  3\n",
      "n is  280  and min split is  5\n",
      "Best n currently is  280  best split is  5 for a mae of  725648506.2953284\n",
      "n is  280  and min split is  7\n",
      "n is  290  and min split is  3\n",
      "n is  290  and min split is  5\n",
      "n is  290  and min split is  7\n",
      "n is  300  and min split is  3\n",
      "n is  300  and min split is  5\n",
      "n is  300  and min split is  7\n",
      "n is  310  and min split is  3\n",
      "n is  310  and min split is  5\n",
      "n is  310  and min split is  7\n",
      "n is  320  and min split is  3\n",
      "n is  320  and min split is  5\n",
      "n is  320  and min split is  7\n",
      "n is  330  and min split is  3\n",
      "n is  330  and min split is  5\n",
      "n is  330  and min split is  7\n",
      "n is  340  and min split is  3\n",
      "n is  340  and min split is  5\n",
      "n is  340  and min split is  7\n",
      "n is  350  and min split is  3\n",
      "n is  350  and min split is  5\n",
      "Best n currently is  350  best split is  5 for a mae of  724595077.5376529\n",
      "n is  350  and min split is  7\n",
      "n is  360  and min split is  3\n",
      "n is  360  and min split is  5\n",
      "Best n currently is  360  best split is  5 for a mae of  723868339.4612814\n",
      "n is  360  and min split is  7\n",
      "n is  370  and min split is  3\n",
      "n is  370  and min split is  5\n",
      "Best n currently is  370  best split is  5 for a mae of  723187101.952401\n",
      "n is  370  and min split is  7\n",
      "n is  380  and min split is  3\n",
      "n is  380  and min split is  5\n",
      "Best n currently is  380  best split is  5 for a mae of  722972423.6758174\n",
      "n is  380  and min split is  7\n",
      "n is  390  and min split is  3\n",
      "n is  390  and min split is  5\n",
      "n is  390  and min split is  7\n",
      "n is  400  and min split is  3\n",
      "n is  400  and min split is  5\n",
      "n is  400  and min split is  7\n",
      "n is  410  and min split is  3\n",
      "n is  410  and min split is  5\n",
      "n is  410  and min split is  7\n",
      "n is  420  and min split is  3\n",
      "n is  420  and min split is  5\n",
      "n is  420  and min split is  7\n",
      "n is  430  and min split is  3\n",
      "n is  430  and min split is  5\n",
      "n is  430  and min split is  7\n",
      "n is  440  and min split is  3\n",
      "n is  440  and min split is  5\n",
      "n is  440  and min split is  7\n",
      "n is  450  and min split is  3\n",
      "n is  450  and min split is  5\n",
      "Best n currently is  450  best split is  5 for a mae of  721769906.0829498\n",
      "n is  450  and min split is  7\n",
      "n is  460  and min split is  3\n",
      "n is  460  and min split is  5\n",
      "n is  460  and min split is  7\n",
      "n is  470  and min split is  3\n",
      "n is  470  and min split is  5\n",
      "Best n currently is  470  best split is  5 for a mae of  720379379.9482566\n",
      "n is  470  and min split is  7\n",
      "n is  480  and min split is  3\n",
      "n is  480  and min split is  5\n",
      "n is  480  and min split is  7\n",
      "n is  490  and min split is  3\n",
      "n is  490  and min split is  5\n",
      "n is  490  and min split is  7\n",
      "n is  500  and min split is  3\n",
      "n is  500  and min split is  5\n",
      "n is  500  and min split is  7\n",
      "done\n"
     ]
    }
   ],
   "source": [
    "n_est = [(1+i)*10 for i in range(50)]\n",
    "min_split = [3, 5, 7]\n",
    "mae_gb = 999999999999\n",
    "for n in n_est:\n",
    "    for ms in min_split:\n",
    "        print('n is ',n,' and min split is ',ms)\n",
    "        model = GradientBoostingRegressor(random_state=1, n_estimators=n, min_samples_split=ms)\n",
    "        model.fit(x_train, y_train)\n",
    "        thresh = mean_squared_error(y_valid,model.predict(x_valid))\n",
    "        if thresh < mae_gb:\n",
    "            best_n = n\n",
    "            best_ms = ms\n",
    "            mae_gb = thresh\n",
    "            print('Best n currently is ',best_n,' best split is ',best_ms, 'for a mae of ',mae_gb)\n",
    "print('done')"
   ]
  },
  {
   "cell_type": "code",
   "execution_count": 64,
   "metadata": {},
   "outputs": [
    {
     "name": "stderr",
     "output_type": "stream",
     "text": [
      "C:\\Users\\wolfg\\anaconda3\\lib\\site-packages\\sklearn\\model_selection\\_split.py:670: UserWarning: The least populated class in y has only 1 members, which is less than n_splits=5.\n",
      "  warnings.warn((\"The least populated class in y has only %d\"\n"
     ]
    },
    {
     "name": "stdout",
     "output_type": "stream",
     "text": [
      "[0.01712329 0.00684932 0.02739726 0.00684932 0.00342466]\n",
      "0.012328767123287671\n"
     ]
    }
   ],
   "source": [
    "from sklearn.model_selection import cross_validate\n",
    "\n",
    "rf_cv_model = RandomForestClassifier(random_state=1, n_estimators = best_tree, max_depth = best_leaf)\n",
    "cv = cross_validate(rf_cv_model,train,y, cv = 5)\n",
    "print(cv['test_score'])\n",
    "print(cv['test_score'].mean())\n"
   ]
  },
  {
   "cell_type": "code",
   "execution_count": 66,
   "metadata": {},
   "outputs": [
    {
     "name": "stdout",
     "output_type": "stream",
     "text": [
      "[0.90966909 0.86111395 0.90100577 0.89536627 0.88610517]\n",
      "0.8906520504153909\n"
     ]
    }
   ],
   "source": [
    "best_n = 470\n",
    "best_ms = 5\n",
    "gb_cv_model = GradientBoostingRegressor(random_state=1, n_estimators=n, min_samples_split=ms)\n",
    "cv_gb = cross_validate(gb_cv_model,train, y, cv = 5)\n",
    "print(cv_gb['test_score'])\n",
    "print(cv_gb['test_score'].mean())"
   ]
  },
  {
   "cell_type": "code",
   "execution_count": null,
   "metadata": {},
   "outputs": [],
   "source": []
  },
  {
   "cell_type": "code",
   "execution_count": 61,
   "metadata": {},
   "outputs": [
    {
     "data": {
      "text/plain": [
       "(1460, 281)"
      ]
     },
     "execution_count": 61,
     "metadata": {},
     "output_type": "execute_result"
    }
   ],
   "source": []
  },
  {
   "cell_type": "code",
   "execution_count": null,
   "metadata": {},
   "outputs": [],
   "source": []
  }
 ],
 "metadata": {
  "kernelspec": {
   "display_name": "Python 3",
   "language": "python",
   "name": "python3"
  },
  "language_info": {
   "codemirror_mode": {
    "name": "ipython",
    "version": 3
   },
   "file_extension": ".py",
   "mimetype": "text/x-python",
   "name": "python",
   "nbconvert_exporter": "python",
   "pygments_lexer": "ipython3",
   "version": "3.8.5"
  }
 },
 "nbformat": 4,
 "nbformat_minor": 4
}
